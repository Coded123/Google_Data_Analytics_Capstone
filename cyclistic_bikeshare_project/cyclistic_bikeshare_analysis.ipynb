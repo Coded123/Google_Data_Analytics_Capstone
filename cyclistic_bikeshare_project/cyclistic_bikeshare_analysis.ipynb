{
 "cells": [
  {
   "cell_type": "code",
   "execution_count": 2,
   "metadata": {},
   "outputs": [],
   "source": [
    "import numpy as np #data arrays\n",
    "import pandas as pd #data manipulation and analysis\n",
    "import datetime as dt #date time\n",
    "import plotly.express as px #data visualisation"
   ]
  },
  {
   "cell_type": "code",
   "execution_count": null,
   "metadata": {},
   "outputs": [],
   "source": []
  }
 ],
 "metadata": {
  "interpreter": {
   "hash": "39c1fecf5c101e26b490f907df1ff7a7ef6783eb7fea688643aa3f7cb94726b1"
  },
  "kernelspec": {
   "display_name": "Python 3.7.11 ('crypto_env')",
   "language": "python",
   "name": "python3"
  },
  "language_info": {
   "codemirror_mode": {
    "name": "ipython",
    "version": 3
   },
   "file_extension": ".py",
   "mimetype": "text/x-python",
   "name": "python",
   "nbconvert_exporter": "python",
   "pygments_lexer": "ipython3",
   "version": "3.7.11"
  },
  "orig_nbformat": 4
 },
 "nbformat": 4,
 "nbformat_minor": 2
}
